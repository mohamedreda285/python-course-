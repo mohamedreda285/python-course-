{
 "cells": [
  {
   "cell_type": "markdown",
   "metadata": {},
   "source": [
    "## Assignment"
   ]
  },
  {
   "cell_type": "code",
   "execution_count": null,
   "metadata": {
    "ExecuteTime": {
     "end_time": "2022-07-20T21:53:11.681734Z",
     "start_time": "2022-07-20T21:53:11.678742Z"
    }
   },
   "outputs": [],
   "source": [
    "# x is left hand side (has address)\n",
    "# 1 + 2 * 5 = right hand side = an expression"
   ]
  },
  {
   "cell_type": "code",
   "execution_count": null,
   "metadata": {
    "ExecuteTime": {
     "end_time": "2022-07-20T21:53:11.990421Z",
     "start_time": "2022-07-20T21:53:11.976361Z"
    }
   },
   "outputs": [],
   "source": [
    "x = 1 + 2 * 5       # 11"
   ]
  },
  {
   "cell_type": "code",
   "execution_count": null,
   "metadata": {
    "ExecuteTime": {
     "end_time": "2022-07-20T21:53:12.160438Z",
     "start_time": "2022-07-20T21:53:12.155450Z"
    }
   },
   "outputs": [],
   "source": [
    "x -= 4              # 7: same as x = x - 4"
   ]
  },
  {
   "cell_type": "code",
   "execution_count": null,
   "metadata": {
    "ExecuteTime": {
     "end_time": "2022-07-20T21:53:12.374521Z",
     "start_time": "2022-07-20T21:53:12.356566Z"
    }
   },
   "outputs": [],
   "source": [
    "x += 3              # 10: same as x = x + 3"
   ]
  },
  {
   "cell_type": "code",
   "execution_count": null,
   "metadata": {
    "ExecuteTime": {
     "end_time": "2022-07-20T21:53:12.528044Z",
     "start_time": "2022-07-20T21:53:12.511090Z"
    }
   },
   "outputs": [],
   "source": [
    "x *= 2              # 20: same as x = x * 2"
   ]
  },
  {
   "cell_type": "code",
   "execution_count": null,
   "metadata": {
    "ExecuteTime": {
     "end_time": "2022-07-20T21:53:12.701564Z",
     "start_time": "2022-07-20T21:53:12.684607Z"
    }
   },
   "outputs": [],
   "source": [
    "x //= 5             # 4: same as x = x // 2"
   ]
  },
  {
   "cell_type": "code",
   "execution_count": null,
   "metadata": {
    "ExecuteTime": {
     "end_time": "2022-07-20T21:53:12.872690Z",
     "start_time": "2022-07-20T21:53:12.855737Z"
    }
   },
   "outputs": [],
   "source": [
    "x**=3              # 64: same as x = x ** 3"
   ]
  },
  {
   "cell_type": "code",
   "execution_count": null,
   "metadata": {
    "ExecuteTime": {
     "end_time": "2022-07-20T21:53:13.245017Z",
     "start_time": "2022-07-20T21:53:13.241027Z"
    }
   },
   "outputs": [],
   "source": [
    "x %= 6              # 4: same as x = x % 6"
   ]
  },
  {
   "cell_type": "markdown",
   "metadata": {},
   "source": [
    "## Multiple Assignments"
   ]
  },
  {
   "cell_type": "code",
   "execution_count": null,
   "metadata": {
    "ExecuteTime": {
     "end_time": "2022-07-20T21:53:47.323509Z",
     "start_time": "2022-07-20T21:53:47.315376Z"
    }
   },
   "outputs": [
    {
     "name": "stdout",
     "output_type": "stream",
     "text": [
      "5 7\n"
     ]
    }
   ],
   "source": [
    "# Multiple assignments\n",
    "\n",
    "x, y = 5, 7\n",
    "print(x, y) # 5 7"
   ]
  },
  {
   "cell_type": "code",
   "execution_count": null,
   "metadata": {
    "ExecuteTime": {
     "end_time": "2022-07-20T21:53:50.385787Z",
     "start_time": "2022-07-20T21:53:50.368360Z"
    }
   },
   "outputs": [
    {
     "name": "stdout",
     "output_type": "stream",
     "text": [
      "hi 12 6.5\n"
     ]
    }
   ],
   "source": [
    "a, b, c = 'hi', 12, 6.5\n",
    "print(a, b, c)  # hi 12 6.5"
   ]
  },
  {
   "cell_type": "code",
   "execution_count": null,
   "metadata": {
    "ExecuteTime": {
     "end_time": "2022-07-20T21:53:56.938488Z",
     "start_time": "2022-07-20T21:53:56.932326Z"
    }
   },
   "outputs": [],
   "source": [
    "x = y = z = 1\n",
    "#x = y = z += 1     # invalid"
   ]
  },
  {
   "cell_type": "code",
   "execution_count": null,
   "metadata": {
    "ExecuteTime": {
     "end_time": "2022-07-20T21:53:58.575685Z",
     "start_time": "2022-07-20T21:53:58.560725Z"
    }
   },
   "outputs": [
    {
     "name": "stdout",
     "output_type": "stream",
     "text": [
      "30 4\n"
     ]
    }
   ],
   "source": [
    "m = 3\n",
    "print(10 * m, m + 1)    # 30_oop 4"
   ]
  },
  {
   "cell_type": "code",
   "execution_count": null,
   "metadata": {
    "ExecuteTime": {
     "end_time": "2022-07-20T21:54:15.220317Z",
     "start_time": "2022-07-20T21:54:15.205561Z"
    }
   },
   "outputs": [
    {
     "name": "stdout",
     "output_type": "stream",
     "text": [
      "30 4\n"
     ]
    }
   ],
   "source": [
    "m, n = 10 * m, m + 1\n",
    "print(m, n)             # 30_oop 4"
   ]
  },
  {
   "cell_type": "code",
   "execution_count": null,
   "metadata": {
    "ExecuteTime": {
     "end_time": "2022-07-20T21:54:26.283362Z",
     "start_time": "2022-07-20T21:54:26.277026Z"
    }
   },
   "outputs": [],
   "source": [
    "# n is 4 NOT 31\n",
    "# right-hand side is evaluated before the left-hand side.\n",
    "# This is a source of error"
   ]
  },
  {
   "cell_type": "code",
   "execution_count": null,
   "metadata": {
    "ExecuteTime": {
     "end_time": "2022-07-20T21:54:34.327851Z",
     "start_time": "2022-07-20T21:54:34.321775Z"
    }
   },
   "outputs": [],
   "source": [
    "# Avoid multiple assignments like this\n",
    "# Use it for pure values and very simple and clear scenarios"
   ]
  },
  {
   "cell_type": "code",
   "execution_count": null,
   "metadata": {
    "ExecuteTime": {
     "end_time": "2022-07-20T21:54:43.088535Z",
     "start_time": "2022-07-20T21:54:43.066525Z"
    }
   },
   "outputs": [
    {
     "name": "stdout",
     "output_type": "stream",
     "text": [
      "M e !\n"
     ]
    }
   ],
   "source": [
    "c1, c2, c3 = 'Me!'\n",
    "print(c1, c2, c3)   # M e !"
   ]
  },
  {
   "cell_type": "code",
   "execution_count": null,
   "metadata": {
    "ExecuteTime": {
     "end_time": "2022-07-20T21:55:12.652632Z",
     "start_time": "2022-07-20T21:55:12.645742Z"
    }
   },
   "outputs": [
    {
     "name": "stdout",
     "output_type": "stream",
     "text": [
      "M\n"
     ]
    }
   ],
   "source": [
    "print(c1)"
   ]
  },
  {
   "cell_type": "code",
   "execution_count": null,
   "metadata": {
    "ExecuteTime": {
     "end_time": "2022-07-20T21:55:17.088059Z",
     "start_time": "2022-07-20T21:55:17.073602Z"
    }
   },
   "outputs": [
    {
     "name": "stdout",
     "output_type": "stream",
     "text": [
      "e\n"
     ]
    }
   ],
   "source": [
    "print(c2)"
   ]
  },
  {
   "cell_type": "code",
   "execution_count": null,
   "metadata": {
    "ExecuteTime": {
     "end_time": "2022-07-20T21:55:21.279297Z",
     "start_time": "2022-07-20T21:55:21.262245Z"
    }
   },
   "outputs": [
    {
     "name": "stdout",
     "output_type": "stream",
     "text": [
      "!\n"
     ]
    }
   ],
   "source": [
    "print(c3)"
   ]
  },
  {
   "cell_type": "code",
   "execution_count": null,
   "metadata": {},
   "outputs": [],
   "source": [
    "abs()\tReturns the absolute value of a number"
   ]
  },
  {
   "cell_type": "code",
   "execution_count": null,
   "metadata": {},
   "outputs": [],
   "source": [
    "all()\tReturns True if all items in an iterable object are true"
   ]
  },
  {
   "cell_type": "code",
   "execution_count": null,
   "metadata": {},
   "outputs": [],
   "source": [
    "any()\tReturns True if any item in an iterable object is true"
   ]
  },
  {
   "cell_type": "code",
   "execution_count": null,
   "metadata": {},
   "outputs": [],
   "source": [
    "ascii()\tReturns a readable version of an object. Replaces none-ascii characters with escape character"
   ]
  },
  {
   "cell_type": "code",
   "execution_count": null,
   "metadata": {},
   "outputs": [],
   "source": [
    "bin()\tReturns the binary version of a number"
   ]
  },
  {
   "cell_type": "code",
   "execution_count": null,
   "metadata": {},
   "outputs": [],
   "source": [
    "bool()\tReturns the boolean value of the specified object"
   ]
  },
  {
   "cell_type": "code",
   "execution_count": null,
   "metadata": {},
   "outputs": [],
   "source": [
    "bytearray()\tReturns an array of bytes"
   ]
  },
  {
   "cell_type": "code",
   "execution_count": null,
   "metadata": {},
   "outputs": [],
   "source": [
    "bytes()\tReturns a bytes object"
   ]
  },
  {
   "cell_type": "code",
   "execution_count": null,
   "metadata": {},
   "outputs": [],
   "source": [
    "callable()\tReturns True if the specified object is callable, otherwise False"
   ]
  },
  {
   "cell_type": "code",
   "execution_count": null,
   "metadata": {},
   "outputs": [],
   "source": [
    "chr()\tReturns a character from the specified Unicode code"
   ]
  },
  {
   "cell_type": "code",
   "execution_count": null,
   "metadata": {},
   "outputs": [],
   "source": [
    "classmethod()\tConverts a method into a class method"
   ]
  },
  {
   "cell_type": "code",
   "execution_count": null,
   "metadata": {},
   "outputs": [],
   "source": [
    "compile()\tReturns the specified source as an object, ready to be executed"
   ]
  },
  {
   "cell_type": "code",
   "execution_count": null,
   "metadata": {},
   "outputs": [],
   "source": [
    "complex()\tReturns a complex number"
   ]
  },
  {
   "cell_type": "code",
   "execution_count": null,
   "metadata": {},
   "outputs": [],
   "source": [
    "filter()\tUse a filter function to exclude items in an iterable object"
   ]
  },
  {
   "cell_type": "code",
   "execution_count": null,
   "metadata": {},
   "outputs": [],
   "source": [
    "delattr()\tDeletes the specified attribute (property or method) from the specified object"
   ]
  },
  {
   "cell_type": "code",
   "execution_count": null,
   "metadata": {},
   "outputs": [],
   "source": [
    "dict()\tReturns a dictionary (Array)"
   ]
  },
  {
   "cell_type": "code",
   "execution_count": null,
   "metadata": {},
   "outputs": [],
   "source": [
    "dir()\tReturns a list of the specified object's properties and methods"
   ]
  },
  {
   "cell_type": "code",
   "execution_count": null,
   "metadata": {},
   "outputs": [],
   "source": [
    "divmod()\tReturns the quotient and the remainder when argument1 is divided by argument2"
   ]
  },
  {
   "cell_type": "code",
   "execution_count": null,
   "metadata": {},
   "outputs": [],
   "source": [
    "enumerate()\tTakes a collection (e.g. a tuple) and returns it as an enumerate object"
   ]
  },
  {
   "cell_type": "code",
   "execution_count": null,
   "metadata": {},
   "outputs": [],
   "source": [
    "eval()\tEvaluates and executes an expression"
   ]
  },
  {
   "cell_type": "code",
   "execution_count": null,
   "metadata": {},
   "outputs": [],
   "source": [
    "exec()\tExecutes the specified code (or object)"
   ]
  },
  {
   "cell_type": "code",
   "execution_count": null,
   "metadata": {},
   "outputs": [],
   "source": [
    "float()\tReturns a floating point number"
   ]
  },
  {
   "cell_type": "code",
   "execution_count": null,
   "metadata": {},
   "outputs": [],
   "source": [
    "format()\tFormats a specified value"
   ]
  },
  {
   "cell_type": "code",
   "execution_count": null,
   "metadata": {},
   "outputs": [],
   "source": [
    "frozenset()\tReturns a frozenset object"
   ]
  },
  {
   "cell_type": "code",
   "execution_count": null,
   "metadata": {},
   "outputs": [],
   "source": [
    "getattr()\tReturns the value of the specified attribute (property or method)"
   ]
  },
  {
   "cell_type": "code",
   "execution_count": null,
   "metadata": {},
   "outputs": [],
   "source": [
    "globals()\tReturns the current global symbol table as a dictionary"
   ]
  },
  {
   "cell_type": "code",
   "execution_count": null,
   "metadata": {},
   "outputs": [],
   "source": [
    "hasattr()\tReturns True if the specified object has the specified attribute (property/method)"
   ]
  },
  {
   "cell_type": "code",
   "execution_count": null,
   "metadata": {},
   "outputs": [],
   "source": [
    "hash()\tReturns the hash value of a specified object"
   ]
  },
  {
   "cell_type": "code",
   "execution_count": null,
   "metadata": {},
   "outputs": [],
   "source": [
    "help()\tExecutes the built-in help system"
   ]
  },
  {
   "cell_type": "code",
   "execution_count": null,
   "metadata": {},
   "outputs": [],
   "source": [
    "hex()\tConverts a number into a hexadecimal value"
   ]
  }
 ],
 "metadata": {
  "hide_input": false,
  "kernelspec": {
   "display_name": "Python 3",
   "language": "python",
   "name": "python3"
  },
  "language_info": {
   "codemirror_mode": {
    "name": "ipython",
    "version": 3
   },
   "file_extension": ".py",
   "mimetype": "text/x-python",
   "name": "python",
   "nbconvert_exporter": "python",
   "pygments_lexer": "ipython3",
   "version": "3.8.5"
  },
  "toc": {
   "base_numbering": 1,
   "nav_menu": {},
   "number_sections": true,
   "sideBar": true,
   "skip_h1_title": false,
   "title_cell": "Table of Contents",
   "title_sidebar": "Contents",
   "toc_cell": false,
   "toc_position": {},
   "toc_section_display": true,
   "toc_window_display": false
  },
  "varInspector": {
   "cols": {
    "lenName": 16,
    "lenType": 16,
    "lenVar": 40
   },
   "kernels_config": {
    "python": {
     "delete_cmd_postfix": "",
     "delete_cmd_prefix": "del ",
     "library": "var_list.py",
     "varRefreshCmd": "print(var_dic_list())"
    },
    "r": {
     "delete_cmd_postfix": ") ",
     "delete_cmd_prefix": "rm(",
     "library": "var_list.r",
     "varRefreshCmd": "cat(var_dic_list()) "
    }
   },
   "types_to_exclude": [
    "module",
    "function",
    "builtin_function_or_method",
    "instance",
    "_Feature"
   ],
   "window_display": false
  }
 },
 "nbformat": 4,
 "nbformat_minor": 4
}
